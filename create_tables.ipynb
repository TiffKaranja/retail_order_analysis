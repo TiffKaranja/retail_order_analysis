{
 "cells": [
  {
   "cell_type": "code",
   "execution_count": 5,
   "id": "bb3dd0a0",
   "metadata": {},
   "outputs": [],
   "source": [
    "import os"
   ]
  },
  {
   "cell_type": "code",
   "execution_count": 6,
   "id": "a23403c5",
   "metadata": {},
   "outputs": [],
   "source": [
    "import sqlalchemy as sa"
   ]
  },
  {
   "cell_type": "code",
   "execution_count": 7,
   "id": "46eaedd6",
   "metadata": {},
   "outputs": [],
   "source": [
    "\n",
    "from sqlalchemy import text\n",
    "from dotenv import load_dotenv\n"
   ]
  },
  {
   "cell_type": "code",
   "execution_count": 8,
   "id": "66aca039",
   "metadata": {},
   "outputs": [],
   "source": [
    "import os\n",
    "\n",
    "HOST = os.getenv(\"127.0.0.1\")\n",
    "DATABASE = os.getenv(\"retail_db\")\n",
    "USER = os.getenv(\"postgres\")\n",
    "PASSWORD = os.getenv(\"newpassword\")\n",
    "PORT = os.getenv(\"5432\")\n"
   ]
  }
 ],
 "metadata": {
  "kernelspec": {
   "display_name": "Python 3",
   "language": "python",
   "name": "python3"
  },
  "language_info": {
   "codemirror_mode": {
    "name": "ipython",
    "version": 3
   },
   "file_extension": ".py",
   "mimetype": "text/x-python",
   "name": "python",
   "nbconvert_exporter": "python",
   "pygments_lexer": "ipython3",
   "version": "3.13.3"
  }
 },
 "nbformat": 4,
 "nbformat_minor": 5
}
